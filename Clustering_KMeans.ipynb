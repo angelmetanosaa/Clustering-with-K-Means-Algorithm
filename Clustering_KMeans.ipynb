{
  "nbformat": 4,
  "nbformat_minor": 0,
  "metadata": {
    "colab": {
      "name": "Tugas Besar Machine Learning_Clustering_Angel Metanosa Afinda_1301174639.ipynb",
      "provenance": [],
      "collapsed_sections": []
    },
    "kernelspec": {
      "name": "python3",
      "display_name": "Python 3"
    }
  },
  "cells": [
    {
      "cell_type": "markdown",
      "metadata": {
        "id": "P8Jk3t60HGek",
        "colab_type": "text"
      },
      "source": [
        "# **CLUSTERING 1**\n",
        "---\n",
        "Clustering atau klasterisasi adalah metode pengelompokan data. Clustering merupakan proses partisi satu set objek data ke dalam himpunan bagian yang disebut dengan cluster. Objek yang di dalam cluster memiliki kemiripan karakteristik antar satu sama lainnya dan berbeda dengan cluster yang lain. Partisi tidak dilakukan secara manual melainkan dengan suatu algoritma clustering. Oleh karena itu, clustering sangat berguna dan bisa menemukan group atau kelompokyang tidak dikenal dalam data. \n",
        "\n",
        "---\n",
        "Task yang dilakukan adalah mengelompokkan data penjualan rumah berdasarkan lokasi menggunakan atribut longitude dan latitude. K-Mean dipilih sebagai metode dalam task ini. Tujuan dari clustering adalah meminimumkan jarak antara data point dan centroid, serta memaksimumkan jarak antara centroid yang dihitung menggunakan within-cluster sum of squares atau WCSS.\n",
        "\n",
        "---"
      ]
    },
    {
      "cell_type": "markdown",
      "metadata": {
        "id": "2Xms7bmTHMCR",
        "colab_type": "text"
      },
      "source": [
        "## **Import Library**"
      ]
    },
    {
      "cell_type": "code",
      "metadata": {
        "id": "opt9TgAsHMib",
        "colab_type": "code",
        "colab": {}
      },
      "source": [
        "#Pandas (Python for Data Analysis) adalah library Python yang fokus untuk proses analisis data seperti manipulasi data, persiapan data, dan pembersihan data. \n",
        "#Pandas menyediakan struktur data dan fungsi high-level untuk membuat pekerjaan dengan data terstruktur/tabular lebih cepat, mudah, dan ekspresif.\n",
        "import pandas as pd\n",
        "#NumPy (Numerical Python) adalah library Python yang fokus pada scientific computing. \n",
        "#NumPy memiliki kemampuan untuk membentuk objek N-dimensional array, yang mirip dengan list pada Python.\n",
        "import numpy as np\n",
        "#library random berguna untuk melakukan random pada angka tertentu\n",
        "import random as rd\n",
        "#library matplotlib berguna untuk melakukan plot gambar\n",
        "import matplotlib.pyplot as plt"
      ],
      "execution_count": null,
      "outputs": []
    },
    {
      "cell_type": "markdown",
      "metadata": {
        "id": "pZpVXpEOHWKd",
        "colab_type": "text"
      },
      "source": [
        "## **Load Data**\n",
        "Load Data adalah proses upload dan pembacaan data yang telah diupload."
      ]
    },
    {
      "cell_type": "code",
      "metadata": {
        "id": "D8yI4kcAHWov",
        "colab_type": "code",
        "colab": {
          "resources": {
            "http://localhost:8080/nbextensions/google.colab/files.js": {
              "data": "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",
              "ok": true,
              "headers": [
                [
                  "content-type",
                  "application/javascript"
                ]
              ],
              "status": 200,
              "status_text": "OK"
            }
          },
          "base_uri": "https://localhost:8080/",
          "height": 77
        },
        "outputId": "8b517a8f-1df2-434c-9b8a-26b8fac49da2"
      },
      "source": [
        "#import library upload file pada google colab\n",
        "from google.colab import files\n",
        "#mengupload file\n",
        "dataupload = files.upload()"
      ],
      "execution_count": null,
      "outputs": [
        {
          "output_type": "display_data",
          "data": {
            "text/html": [
              "\n",
              "     <input type=\"file\" id=\"files-86b8ee72-cb6c-406d-8a99-2325ebe56b0e\" name=\"files[]\" multiple disabled />\n",
              "     <output id=\"result-86b8ee72-cb6c-406d-8a99-2325ebe56b0e\">\n",
              "      Upload widget is only available when the cell has been executed in the\n",
              "      current browser session. Please rerun this cell to enable.\n",
              "      </output>\n",
              "      <script src=\"/nbextensions/google.colab/files.js\"></script> "
            ],
            "text/plain": [
              "<IPython.core.display.HTML object>"
            ]
          },
          "metadata": {
            "tags": []
          }
        },
        {
          "output_type": "stream",
          "text": [
            "Saving air_bnb.csv to air_bnb.csv\n"
          ],
          "name": "stdout"
        }
      ]
    },
    {
      "cell_type": "code",
      "metadata": {
        "id": "VzPWFkIvHYJp",
        "colab_type": "code",
        "colab": {
          "base_uri": "https://localhost:8080/",
          "height": 439
        },
        "outputId": "a7f497bd-712a-4c7a-e86e-559fcab18bd5"
      },
      "source": [
        "#import io untuk membaca dataset yang telah diupload\n",
        "import io\n",
        "#membaca data csv yang telah diupload dengan nama air_bnb\n",
        "import pandas as pd\n",
        "df = pd.read_csv(io.BytesIO(dataupload['air_bnb.csv']))\n",
        "#menampilkan data yang telah dibaca\n",
        "df.info()"
      ],
      "execution_count": null,
      "outputs": [
        {
          "output_type": "stream",
          "text": [
            "<class 'pandas.core.frame.DataFrame'>\n",
            "RangeIndex: 22552 entries, 0 to 22551\n",
            "Data columns (total 16 columns):\n",
            " #   Column                          Non-Null Count  Dtype  \n",
            "---  ------                          --------------  -----  \n",
            " 0   id                              22552 non-null  int64  \n",
            " 1   name                            22493 non-null  object \n",
            " 2   host_id                         22552 non-null  int64  \n",
            " 3   host_name                       22526 non-null  object \n",
            " 4   neighbourhood_group             22552 non-null  object \n",
            " 5   neighbourhood                   22552 non-null  object \n",
            " 6   latitude                        22552 non-null  float64\n",
            " 7   longitude                       22552 non-null  float64\n",
            " 8   room_type                       22552 non-null  object \n",
            " 9   price                           22552 non-null  int64  \n",
            " 10  minimum_nights                  22552 non-null  int64  \n",
            " 11  number_of_reviews               22552 non-null  int64  \n",
            " 12  last_review                     18644 non-null  object \n",
            " 13  reviews_per_month               18638 non-null  float64\n",
            " 14  calculated_host_listings_count  22552 non-null  int64  \n",
            " 15  availability_365                22552 non-null  int64  \n",
            "dtypes: float64(3), int64(7), object(6)\n",
            "memory usage: 2.8+ MB\n"
          ],
          "name": "stdout"
        }
      ]
    },
    {
      "cell_type": "markdown",
      "metadata": {
        "id": "CPxm7n6_Ho2U",
        "colab_type": "text"
      },
      "source": [
        "## **Preprocessing**"
      ]
    },
    {
      "cell_type": "code",
      "metadata": {
        "id": "Kf8eIcQpHpRf",
        "colab_type": "code",
        "colab": {}
      },
      "source": [
        "#Pada tahap ini dilakukan pengambilan atribut yang akan digunakan pada clustering, yaitu latitude dan longitude.\n",
        "data = (df[[\"latitude\", \"longitude\"]])"
      ],
      "execution_count": null,
      "outputs": []
    },
    {
      "cell_type": "code",
      "metadata": {
        "id": "0WMJNuKMHsNU",
        "colab_type": "code",
        "colab": {}
      },
      "source": [
        "#mengidentifikasi variabel X sebagai split data, dimana artinya adalah memisahkan 2 kolom yaitu latitude dan longitude agar berbentuk matriks\n",
        "X = data.iloc[:, [0, 1]].values"
      ],
      "execution_count": null,
      "outputs": []
    },
    {
      "cell_type": "code",
      "metadata": {
        "id": "6WvXIIQ5HuOg",
        "colab_type": "code",
        "colab": {
          "base_uri": "https://localhost:8080/",
          "height": 146
        },
        "outputId": "92e63491-ce3a-4534-f089-ee15c0b1b2a6"
      },
      "source": [
        "#menampilkan matriks X \n",
        "X"
      ],
      "execution_count": null,
      "outputs": [
        {
          "output_type": "execute_result",
          "data": {
            "text/plain": [
              "array([[52.53453732, 13.40255693],\n",
              "       [52.54851279, 13.40455283],\n",
              "       [52.53499619, 13.41757867],\n",
              "       ...,\n",
              "       [52.53179977, 13.41199948],\n",
              "       [52.52080183, 13.37868779],\n",
              "       [52.47376159, 13.42444719]])"
            ]
          },
          "metadata": {
            "tags": []
          },
          "execution_count": 7
        }
      ]
    },
    {
      "cell_type": "code",
      "metadata": {
        "id": "UPYpk1hGHvyJ",
        "colab_type": "code",
        "colab": {}
      },
      "source": [
        "#Pada fungsi shape ini menghasilkan sebuah tuple yang berisikan panjang sebuah array pada tiap dimensi\n",
        "#array tersebut sesuai dengan jumlah row pada data\n",
        "#m adalah tuple pada kolom pertama yaitu latitude\n",
        "m = X.shape[0]\n",
        "#n adalah tuple pada kolom kedua yaitu longitude\n",
        "n = X.shape[1] "
      ],
      "execution_count": null,
      "outputs": []
    },
    {
      "cell_type": "markdown",
      "metadata": {
        "id": "z0-wHYt1H-lj",
        "colab_type": "text"
      },
      "source": [
        "## **Proses Clustering menggunakan K-Means**"
      ]
    },
    {
      "cell_type": "markdown",
      "metadata": {
        "id": "5kNbVM-HIEBs",
        "colab_type": "text"
      },
      "source": [
        "### **Inisialisasi Cluster**"
      ]
    },
    {
      "cell_type": "code",
      "metadata": {
        "id": "PahuFrY5IEzT",
        "colab_type": "code",
        "colab": {}
      },
      "source": [
        "#inisialisasi jumlah iterasi yaitu 100\n",
        "n_iter = 100\n",
        "#inisialisasi jumlah cluster yaitu 5\n",
        "K = 5"
      ],
      "execution_count": null,
      "outputs": []
    },
    {
      "cell_type": "markdown",
      "metadata": {
        "id": "WQWTyzKmIIqM",
        "colab_type": "text"
      },
      "source": [
        "### **Inisialisasi Centroid**"
      ]
    },
    {
      "cell_type": "code",
      "metadata": {
        "id": "xRRtdWKOIKus",
        "colab_type": "code",
        "colab": {}
      },
      "source": [
        "#melakukan inisialisasi centroid \n",
        "Centroids = np.array([]).reshape(n,0)"
      ],
      "execution_count": null,
      "outputs": []
    },
    {
      "cell_type": "code",
      "metadata": {
        "id": "Hl--z8NyIMs3",
        "colab_type": "code",
        "colab": {}
      },
      "source": [
        "#melakukan perulangan untuk memperbaharui centroid sesuai dengan range K\n",
        "for i in range(K):\n",
        "    #melakukan random angka 0 dan m-1 sehingga pengelompokkan data yang dihasilkan dapat berbeda-beda\n",
        "    rand = rd.randint(0, m-1)\n",
        "    #memperbaharui Centroids sesuai dengan hasil angka random yang akan dimasukkan ke matriks X\n",
        "    Centroids = np.c_[Centroids,X[rand]]"
      ],
      "execution_count": null,
      "outputs": []
    },
    {
      "cell_type": "markdown",
      "metadata": {
        "id": "uzzVEiUoIO4C",
        "colab_type": "text"
      },
      "source": [
        "### **Menghitung Eucledian Distance**"
      ]
    },
    {
      "cell_type": "code",
      "metadata": {
        "id": "hKPc_oDqIQUt",
        "colab_type": "code",
        "colab": {}
      },
      "source": [
        "#melakukan inisialisasi EuclidianDistance dengan mengambil kolom m\n",
        "EuclidianDistance = np.array([]).reshape(m,0)\n",
        "#melakukan perulangan sebanyak K yaitu jumlah centroid = 5\n",
        "for k in range(K):\n",
        "    #melakukan inisialisasi dan perhitungan eucledia distance dengan rumus menjumlahkan pengurangan pada nilai kolom m dan kolom n sebanyak K (jumlah centroid)\n",
        "    #Hitung jarak masing-masing titik terhadap centroid yg dipilih\n",
        "    tempDist = np.sum((X-Centroids[:, k])**2, axis = 1)\n",
        "    #melakukan inisialisasi variabel yang akan membuat array yang terdiri dari EuclideanDistance dan tempDist\n",
        "    EuclidianDistance = np.c_[EuclidianDistance, tempDist]\n",
        "#mengembalikan nilai C sebagai hasil dari EuclidianDistance \n",
        "C = np.argmin(EuclidianDistance, axis = 1) + 1"
      ],
      "execution_count": null,
      "outputs": []
    },
    {
      "cell_type": "markdown",
      "metadata": {
        "id": "QKFvFgOxISp7",
        "colab_type": "text"
      },
      "source": [
        "### **Melakukan Clustering**"
      ]
    },
    {
      "cell_type": "code",
      "metadata": {
        "id": "bEeEowGbIU_N",
        "colab_type": "code",
        "colab": {}
      },
      "source": [
        "#melakukan inisialisasi Output\n",
        "Output = {}"
      ],
      "execution_count": null,
      "outputs": []
    },
    {
      "cell_type": "code",
      "metadata": {
        "id": "4odbCznGIWox",
        "colab_type": "code",
        "colab": {}
      },
      "source": [
        "#melakukan inisialisasi Y \n",
        "Y = {}\n",
        "#melakukan perulangan sebanyak K yaitu jumlah centroid = 5\n",
        "for k in range(K):\n",
        "    Y[k+1] = np.array([]).reshape(2,0)\n",
        "#melakukan perulangan sebanyak m kali. m mendeskripsikan kolom latitude\n",
        "for i in range(m):\n",
        "    Y[C[i]] = np.c_[Y[C[i]],X[i]]\n",
        "#melakukan perulangan sebanyak K yaitu jumlah centroid = 5     \n",
        "for k in range(K):\n",
        "    Y[k+1] = Y[k+1].T\n",
        "#melakukan perulangan sebanyak K yaitu jumlah centroid = 5\n",
        "for k in range(K):\n",
        "    Centroids[:,k] = np.mean(Y[k+1],axis = 0)"
      ],
      "execution_count": null,
      "outputs": []
    },
    {
      "cell_type": "code",
      "metadata": {
        "id": "myKtgbRUIaXG",
        "colab_type": "code",
        "colab": {}
      },
      "source": [
        "#melakukan perulangan jumlah iterasi yaitu 100\n",
        "for i in range(n_iter):\n",
        "    #step 2.a\n",
        "    #inisialisasi EuclidianDistance dengan membuat tupel kolom 0\n",
        "    EuclidianDistance = np.array([]).reshape(m,0)\n",
        "    #melakukan perulangan sebanyak K yaitu jumlah centroid = 5\n",
        "    for k in range(K):\n",
        "        #melakukan perulangan sebanyak K yaitu jumlah centroid = 5, untuk menyempurnakan posisi centroid\n",
        "        tempDist = np.sum((X-Centroids[:,k])**2,axis = 1)\n",
        "        #melakukan inisialisasi dan perhitungan eucledia distance dengan rumus menjumlahkan pengurangan pada nilai kolom m dan kolom n sebanyak K (jumlah centroid)\n",
        "        #Hitung jarak masing-masing titik terhadap centroid yg dipilih\n",
        "        EuclidianDistance = np.c_[EuclidianDistance,tempDist]\n",
        "    #mengembalikan nilai C sebagai hasil dari EuclidianDistance  \n",
        "    C = np.argmin(EuclidianDistance,axis = 1)+1\n",
        "    #step 2.b\n",
        "    Y = {}\n",
        "    #melakukan perulangan sebanyak K yaitu jumlah centroid = 5\n",
        "    for k in range(K):\n",
        "        Y[k+1] = np.array([]).reshape(2,0)\n",
        "    #melakukan perulangan sebanyak m kali\n",
        "    for i in range(m):\n",
        "        Y[C[i]] = np.c_[Y[C[i]],X[i]]\n",
        "    #melakukan perulangan sebanyak K yaitu jumlah centroid = 5\n",
        "    for k in range(K):\n",
        "        Y[k+1] = Y[k+1].T\n",
        "    #melakukan perulangan sebanyak K yaitu jumlah centroid = 5\n",
        "    for k in range(K):\n",
        "        #memperbaharui letak centroid\n",
        "        Centroids[:,k] = np.mean(Y[k+1],axis = 0)\n",
        "    #mengeluarkan nilai output\n",
        "    Output = Y"
      ],
      "execution_count": null,
      "outputs": []
    },
    {
      "cell_type": "markdown",
      "metadata": {
        "id": "lpZMT2IzIdIi",
        "colab_type": "text"
      },
      "source": [
        "### **Representasi Persebaran Data sebelum dilakukan Clustering**"
      ]
    },
    {
      "cell_type": "code",
      "metadata": {
        "id": "02ICzFVAIdd0",
        "colab_type": "code",
        "colab": {
          "base_uri": "https://localhost:8080/",
          "height": 295
        },
        "outputId": "46099b57-0157-48c4-f9f5-3d0b278ac8c4"
      },
      "source": [
        "#melakukan representasi persebaran data yang belum dilakukan cluster\n",
        "plt.scatter(X[:,0],X[:,1],c='black',label='unclustered data')\n",
        "#memberi label sumbu x dengan lat\n",
        "plt.xlabel('lat')\n",
        "#memberi label sumbu y dengan long\n",
        "plt.ylabel('long')\n",
        "plt.legend()\n",
        "#memberikan judul plot dengan Plot of data points \n",
        "plt.title('Plot of data points')\n",
        "#menampilkan plot\n",
        "plt.show()"
      ],
      "execution_count": null,
      "outputs": [
        {
          "output_type": "display_data",
          "data": {
            "image/png": "[encoded data removed]",
            "text/plain": [
              "<Figure size 432x288 with 1 Axes>"
            ]
          },
          "metadata": {
            "tags": [],
            "needs_background": "light"
          }
        }
      ]
    },
    {
      "cell_type": "markdown",
      "metadata": {
        "id": "9nEF6wAOIiJk",
        "colab_type": "text"
      },
      "source": [
        "### **Representasi Persebaran Data setelah dilakukan Clustering**"
      ]
    },
    {
      "cell_type": "code",
      "metadata": {
        "id": "nvyN-NlRIie4",
        "colab_type": "code",
        "colab": {
          "base_uri": "https://localhost:8080/",
          "height": 279
        },
        "outputId": "6315459c-305b-43d6-f4d7-1cf07bfaeaf8"
      },
      "source": [
        "#menentukan warna setiap cluster\n",
        "color = ['red','blue','green','cyan','orange']\n",
        "#memberi nama label cluster sesuai dengan warnanya\n",
        "labels = ['cluster1','cluster2','cluster3', 'cluster4', 'cluster5']\n",
        "#melakukan perulangan k sebanyak K kali. Dimana K = Jumlah clustering yaitu 5\n",
        "for k in range(K):\n",
        "    #mengeluarkan output warna dari setiap cluster beserta labelnya\n",
        "    plt.scatter(Output[k+1][:,0],Output[k+1][:,1],c = color[k], label = labels[k])\n",
        "#mengeluarkan output letak dan tabel centroid yang ditandai dengan lingkaran warna kuning\n",
        "plt.scatter(Centroids[0,:],Centroids[1,:],s = 300,c = 'magenta', label = 'Centroids')\n",
        "#memberikan nama label sumbu x dengan Lat yang berarti Latitude\n",
        "plt.xlabel('Lat')\n",
        "#memberikan nama label sumbu x dengan Long yang berarti Longitude\n",
        "plt.ylabel('Long')\n",
        "plt.legend()\n",
        "#Menampilkan plot secara keseluruhan\n",
        "plt.show()"
      ],
      "execution_count": null,
      "outputs": [
        {
          "output_type": "display_data",
          "data": {
            "image/png": "[encoded data removed]",
            "text/plain": [
              "<Figure size 432x288 with 1 Axes>"
            ]
          },
          "metadata": {
            "tags": [],
            "needs_background": "light"
          }
        }
      ]
    },
    {
      "cell_type": "markdown",
      "metadata": {
        "id": "8kxEZrpWImDk",
        "colab_type": "text"
      },
      "source": [
        "### **Evaluasi Menggunakan Elbow Methode**\n",
        "---\n",
        "\n",
        "Elbow method adalah metoda yang sering dipakai untuk menentukan jumlah cluster yang akan digunakan pada k-means clustering. Tujuannya adalah menghitung WCSS se-minimum dengan jumlah cluster yang kecil agar bisa dilakukan interpretasi data.\n",
        "\n"
      ]
    },
    {
      "cell_type": "code",
      "metadata": {
        "id": "TtCYQugpIndO",
        "colab_type": "code",
        "colab": {
          "base_uri": "https://localhost:8080/",
          "height": 295
        },
        "outputId": "448584e0-fe0b-4117-cb84-5e6444a7a6b3"
      },
      "source": [
        "#menggunakan elbow method untuk menemukan nomor cluster yang optimal menggunakan sklearn libraries\n",
        "#import library\n",
        "from sklearn.cluster import KMeans\n",
        "#membuat array dengan nama wcss\n",
        "wcss = []\n",
        "#melakukan perulangan dari 1 sampai 11\n",
        "for i in range(1, 11):\n",
        "    #membuat nama variabel = kmeans yang mendeskripsikan jumlah cluster, perulangan k-means, dan random statenya\n",
        "    kmeans = KMeans(n_clusters = i, init = 'k-means++', random_state = 50)\n",
        "    kmeans.fit(data)\n",
        "    wcss.append(kmeans.inertia_)\n",
        "#menampilkan plot wcss\n",
        "\n",
        "plt.plot(range(1, 11), wcss)\n",
        "#memberikan label plot dengan judul The Elbow Method\n",
        "plt.title('The Elbow Method')\n",
        "#memberikan label x dengan nama Number of clusters\n",
        "plt.xlabel('Number of clusters')\n",
        "#memberikan label y dengan nama WCSS\n",
        "plt.ylabel('WCSS')\n",
        "#menampilkan plot\n",
        "plt.show()"
      ],
      "execution_count": null,
      "outputs": [
        {
          "output_type": "display_data",
          "data": {
            "image/png": "[encoded data removed]",
            "text/plain": [
              "<Figure size 432x288 with 1 Axes>"
            ]
          },
          "metadata": {
            "tags": [],
            "needs_background": "light"
          }
        }
      ]
    },
    {
      "cell_type": "markdown",
      "metadata": {
        "id": "kiu84kK6IpZK",
        "colab_type": "text"
      },
      "source": [
        "Hasil dari Elbow Method didapatkan bahwa clustering terbaik berjumlah 3 buah cluster, sehingga jumlah cluster yang seharusnya dan efektif berjumlah 3 cluster."
      ]
    },
    {
      "cell_type": "markdown",
      "metadata": {
        "id": "4j1ix7ynLXc0",
        "colab_type": "text"
      },
      "source": [
        "## **Kesimpulan**"
      ]
    },
    {
      "cell_type": "markdown",
      "metadata": {
        "id": "xp-1Cra3LoXg",
        "colab_type": "text"
      },
      "source": [
        "Dari hasil clustering yang didapatkan, atribut latitude dan longitude dapat diclustering menjadi 5 buah cluster. Namun, setelah data sudah berhasil dicluster menjadi 5 buah, saya mencari jumlah cluster yang efektif menggunakan Elbow Methode dan didapatkan hasil bahwa jumlah cluster yang efektif adalah sebanyak 3 buah agar dapat dapat dikelompokkan sesuai dengan yang seharusnya.\n",
        "\n",
        "Evaluasinya adalah, agar jumlah cluster yang didapatkan lebih efektif maka alangkah baiknya mencari jumlah cluster yang efektif terlebih dahulu menggunakan Elbow Method."
      ]
    }
  ]
}